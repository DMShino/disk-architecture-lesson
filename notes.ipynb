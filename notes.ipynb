{
  "nbformat": 4,
  "nbformat_minor": 0,
  "metadata": {
    "colab": {
      "name": "Untitled0.ipynb",
      "provenance": [],
      "authorship_tag": "ABX9TyMc6PotZ59eQdmWmtUPG3t1",
      "include_colab_link": true
    },
    "kernelspec": {
      "name": "python3",
      "display_name": "Python 3"
    },
    "language_info": {
      "name": "python"
    }
  },
  "cells": [
    {
      "cell_type": "markdown",
      "metadata": {
        "id": "view-in-github",
        "colab_type": "text"
      },
      "source": [
        "<a href=\"https://colab.research.google.com/github/DMShino/disk-architecture-lesson/blob/main/notes.ipynb\" target=\"_parent\"><img src=\"https://colab.research.google.com/assets/colab-badge.svg\" alt=\"Open In Colab\"/></a>"
      ]
    },
    {
      "cell_type": "code",
      "metadata": {
        "id": "_aKrCLjnNWcE"
      },
      "source": [
        "#Set = Unordered, unindexed\n",
        "set1={'banana','banana',0,False}\n",
        "print(set1)"
      ],
      "execution_count": null,
      "outputs": []
    },
    {
      "cell_type": "code",
      "metadata": {
        "id": "lTUMEIQJRYEp"
      },
      "source": [
        "#List = ordered, indexed\n",
        "list1=['banana','banana',0,False]\n",
        "#. index=. 0. 1. 2. 3\n",
        "#. index=. -4. -3. -2. -1\n",
        "print(list1)\n",
        "print(list1[3])\n",
        "print(list1[-2])"
      ],
      "execution_count": null,
      "outputs": []
    },
    {
      "cell_type": "code",
      "metadata": {
        "id": "9okR4NPOScUq"
      },
      "source": [
        "#[] = list {} = set\n",
        "#Special set = Dictionary = Unordered, indexed\n",
        "#key:value pairs = Our own indexing\n",
        "\n",
        "d1 = {1:42,\n",
        "      \"Pikachu\":-42,\n",
        "      False:\"Hello world\"}\n",
        "print(d1[False]) # Custom indexing"
      ],
      "execution_count": null,
      "outputs": []
    },
    {
      "cell_type": "code",
      "metadata": {
        "id": "FLCwzQHBTrCj"
      },
      "source": [
        "#OFF = False = 0\n",
        "#ON = True = 1"
      ],
      "execution_count": null,
      "outputs": []
    },
    {
      "cell_type": "code",
      "metadata": {
        "id": "3XI6BiXcT7Wo"
      },
      "source": [
        "#Gates = Not (Invertor)\n",
        "#Input1.  Input2  And Gate  Or Gate  ExclusiveOr (XOR)\n",
        "#   0      0        0         0           0\n",
        "#   0      1        0         1           1\n",
        "#   1      0        0         1           1\n",
        "#   1      1        1         1           0"
      ],
      "execution_count": null,
      "outputs": []
    },
    {
      "cell_type": "code",
      "metadata": {
        "id": "dF1hTNvYkhHJ"
      },
      "source": [
        "# Base 2 = Binary\n",
        "# Base 8 = RAM (Randomly access anywhere on hardware, returned in fixed time) > Octal\n",
        "# Base 16 = Disk (Faster in beginning, slower in the end - Address space) > Hexadecimal\n",
        "# starting address > 0x5a2b3c, offset (size)\n",
        "# file size = offset\n",
        "# end of file = starting address + offset\n",
        "# File Allocation Table (FAT 8), FAT16, FAT32 > 32 bits of addressing space\n",
        "# 2^32 bits will be used for address mapping"
      ],
      "execution_count": null,
      "outputs": []
    },
    {
      "cell_type": "code",
      "metadata": {
        "id": "9miedqmgmP_q"
      },
      "source": [
        "# 8 characters\n",
        "# ---- ----\n",
        "# binary > 0 and 1 > ALWAYS in computing\n",
        "# hexadecimal > 15^8 different computer programming address instructions\n",
        "\n",
        "# 2 kinds of instructions\n",
        "# add, sub, mul > binary\n",
        "# read/write > hex\n",
        "\n",
        "# RAM size is fixed\n",
        "# computing > binary is used for speed\n",
        "# storage > hexadecimal is used for a larger address set in the same space"
      ],
      "execution_count": null,
      "outputs": []
    },
    {
      "cell_type": "code",
      "metadata": {
        "id": "inY7DN2-plax"
      },
      "source": [
        "# Disk contains files-> files can be encoded in ANY format\n",
        "# NONE of this is actually executable!  \n",
        "# RAM contains Process -> Process is always BINARY \n",
        "#          \n",
        "# windows-> when you click on PNG-> image written in JPEG format\n",
        "# is first loaded into RAM as binary and ONLY then CPU can show\n",
        "# those bytes to you!"
      ],
      "execution_count": null,
      "outputs": []
    }
  ]
}